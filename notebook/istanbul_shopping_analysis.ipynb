{
 "cells": [
  {
   "cell_type": "markdown",
   "metadata": {},
   "source": [
    "# **Supermarket Sales Analysis: Binary Brogrammers Project**\n",
    "\n",
    "### Project Overview\n",
    "This supermarket sales analysis project is crucial to gaining a competitive advantage in today's dynamic retail landscape. Analyzing customer behaviour allows for informed decision-making, leading to **increased sales and profitability**. It needs to be more accurate in understanding buying patterns that could result in missed opportunities and loss of revenue. This project has the potential to provide insights that can be used to improve supermarket operations, enhance customer experience, and drive profitability.\n",
    "\n",
    "### Business Problems\n",
    "1. What are the most selling products and wich are the declining sales products?\n",
    "2. Are there peak sales time (days, month, season)?\n",
    "3. What is the most preferred payment method?\n",
    "4. What shopping mall has the highest sales?\n",
    "5. What Age group has the highest sales?\n",
    "\n",
    "### Project Goals\n",
    "1. Identify the most selling products and the declining sales products.\n",
    "2. Identify peak sales time in terms of days, months, and seasons.\n",
    "3. Determine the most preferred payment method.\n",
    "4. Identify the shopping mall with the highest sales.\n",
    "5. Identify the age group with the highest sales."
   ]
  }
 ],
 "metadata": {
  "kernelspec": {
   "display_name": "Python 3",
   "language": "python",
   "name": "python3"
  },
  "language_info": {
   "codemirror_mode": {
    "name": "ipython",
    "version": 3
   },
   "file_extension": ".py",
   "mimetype": "text/x-python",
   "name": "python",
   "nbconvert_exporter": "python",
   "pygments_lexer": "ipython3",
   "version": "3.11.9"
  }
 },
 "nbformat": 4,
 "nbformat_minor": 2
}
